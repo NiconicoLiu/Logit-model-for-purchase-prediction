{
  "nbformat": 4,
  "nbformat_minor": 0,
  "metadata": {
    "colab": {
      "name": "DME_love_edited.ipynb",
      "provenance": [],
      "collapsed_sections": [],
      "machine_shape": "hm"
    },
    "kernelspec": {
      "name": "python3",
      "display_name": "Python 3.7.6 64-bit ('py37': conda)"
    },
    "language_info": {
      "name": "python",
      "version": "3.7.6",
      "mimetype": "text/x-python",
      "codemirror_mode": {
        "name": "ipython",
        "version": 3
      },
      "pygments_lexer": "ipython3",
      "nbconvert_exporter": "python",
      "file_extension": ".py"
    },
    "interpreter": {
      "hash": "dac8d9316ea83526bfa9af059a2b0a1ae1e70bd4474970b7f7f89c98f9c00455"
    }
  },
  "cells": [
    {
      "cell_type": "markdown",
      "metadata": {
        "id": "LWd1UlMnhT2s"
      },
      "source": [
        "## Importing the libraries"
      ]
    },
    {
      "cell_type": "code",
      "metadata": {
        "id": "YvGPUQaHhXfL"
      },
      "source": [
        "import numpy as np\n",
        "import matplotlib.pyplot as plt\n",
        "import pandas as pd\n",
        "import seaborn as sns\n",
        "%matplotlib inline\n",
        "import re\n",
        "import math\n",
        "import datetime\n",
        "import string"
      ],
      "execution_count": 31,
      "outputs": []
    },
    {
      "cell_type": "markdown",
      "metadata": {
        "id": "K1VMqkGvhc3-"
      },
      "source": [
        "## Importing the dataset"
      ]
    },
    {
      "cell_type": "code",
      "metadata": {
        "id": "M52QDmyzhh9s"
      },
      "source": [
        "dataset = pd.read_excel('/content/DME Tire Purchase Data(1).xlsx')\n",
        "##12202 rows 75 columns\n",
        "#len(dataset)\n",
        "#len(dataset.columns)"
      ],
      "execution_count": 2,
      "outputs": []
    },
    {
      "cell_type": "code",
      "metadata": {
        "colab": {
          "base_uri": "https://localhost:8080/",
          "height": 576
        },
        "id": "ooHFJJ2d5oss",
        "outputId": "302e8a06-c0cd-40bf-ec02-17d467dc762b"
      },
      "source": [
        "##full dataframe\n",
        "dataset.head()"
      ],
      "execution_count": 4,
      "outputs": [
        {
          "output_type": "execute_result",
          "data": {
            "text/html": [
              "<div>\n",
              "<style scoped>\n",
              "    .dataframe tbody tr th:only-of-type {\n",
              "        vertical-align: middle;\n",
              "    }\n",
              "\n",
              "    .dataframe tbody tr th {\n",
              "        vertical-align: top;\n",
              "    }\n",
              "\n",
              "    .dataframe thead th {\n",
              "        text-align: right;\n",
              "    }\n",
              "</style>\n",
              "<table border=\"1\" class=\"dataframe\">\n",
              "  <thead>\n",
              "    <tr style=\"text-align: right;\">\n",
              "      <th></th>\n",
              "      <th>Year</th>\n",
              "      <th>Make</th>\n",
              "      <th>Model</th>\n",
              "      <th>Body Style</th>\n",
              "      <th>Engine</th>\n",
              "      <th>TireQuantity</th>\n",
              "      <th>Vehicle Purchase Date</th>\n",
              "      <th>Estimated Current Odometer</th>\n",
              "      <th>Number Of Owners</th>\n",
              "      <th>Last Owner Length Of Ownership In Days</th>\n",
              "      <th>Lienholder</th>\n",
              "      <th>Retail</th>\n",
              "      <th>Wholesale</th>\n",
              "      <th>Private Party</th>\n",
              "      <th>Vista Segment</th>\n",
              "      <th>Vista Type</th>\n",
              "      <th>Gender Code</th>\n",
              "      <th>Marital Status</th>\n",
              "      <th>Age</th>\n",
              "      <th>Occupation</th>\n",
              "      <th>Education Level</th>\n",
              "      <th>Religion</th>\n",
              "      <th>Race / Ethnicity</th>\n",
              "      <th>Language Spoken</th>\n",
              "      <th>Net Worth</th>\n",
              "      <th>New Credit Range</th>\n",
              "      <th>Num Credit Lines</th>\n",
              "      <th>Working woman in household</th>\n",
              "      <th>Young Adult in household</th>\n",
              "      <th>Household Income</th>\n",
              "      <th>Number of persons in Household</th>\n",
              "      <th>Number of Adults in Household</th>\n",
              "      <th>Median Income</th>\n",
              "      <th>Length of Residence</th>\n",
              "      <th>Presence of Children</th>\n",
              "      <th>Presence of Elderly Parent</th>\n",
              "      <th>Wealth Rating</th>\n",
              "      <th>Home Ownership</th>\n",
              "      <th>Dwelling Type</th>\n",
              "      <th>Median Home Value</th>\n",
              "      <th>Current Home Value</th>\n",
              "      <th>Home Price</th>\n",
              "      <th>Mortgage Amount-Dollars</th>\n",
              "      <th>Mortgage Amount-Range</th>\n",
              "      <th>Retail Credit Card</th>\n",
              "      <th>Bank Credit Card</th>\n",
              "      <th>Credit Card</th>\n",
              "      <th>Owns Premium Store Or Retail</th>\n",
              "      <th>Owns Premium Visa Or Mastercard</th>\n",
              "      <th>Owns Standard Amex</th>\n",
              "      <th>Owns Standard Discover</th>\n",
              "      <th>Owns Standard Visa Or Mastercard</th>\n",
              "      <th>Credit Ranges</th>\n",
              "      <th>Contributor: Mail Donor Indicator</th>\n",
              "      <th>Animal Contributor</th>\n",
              "      <th>Childrens Contributor</th>\n",
              "      <th>Environmental Contributor</th>\n",
              "      <th>General Contributor</th>\n",
              "      <th>Health Contributor</th>\n",
              "      <th>Political Contributor</th>\n",
              "      <th>Religious Contributor</th>\n",
              "      <th>Verterans Contributor</th>\n",
              "      <th>Donates To Art / Cultural</th>\n",
              "      <th>Conservative Party Donor</th>\n",
              "      <th>Liberal Party Donor</th>\n",
              "      <th>Home Decorators</th>\n",
              "      <th>Home Improvement Buyer</th>\n",
              "      <th>Magazine Buyer</th>\n",
              "      <th>Owns Investments</th>\n",
              "      <th>Owns Mutual Funds</th>\n",
              "      <th>Owns Stocks / Bonds</th>\n",
              "      <th>Political Affiliation</th>\n",
              "      <th>A Known Voter</th>\n",
              "      <th>Generations in Household</th>\n",
              "      <th>Political Ideology</th>\n",
              "    </tr>\n",
              "  </thead>\n",
              "  <tbody>\n",
              "    <tr>\n",
              "      <th>0</th>\n",
              "      <td>2011.0</td>\n",
              "      <td>KIA</td>\n",
              "      <td>SORENTO SX</td>\n",
              "      <td>4 Door Wagon/Sport Utility</td>\n",
              "      <td>3.5L V6    F DOHC 24V</td>\n",
              "      <td>4</td>\n",
              "      <td>2017-09-28</td>\n",
              "      <td>79616.0</td>\n",
              "      <td>3.0</td>\n",
              "      <td>1342.0</td>\n",
              "      <td>False</td>\n",
              "      <td>11220.0</td>\n",
              "      <td>6610.0</td>\n",
              "      <td>9220.0</td>\n",
              "      <td>NaN</td>\n",
              "      <td>NaN</td>\n",
              "      <td>NaN</td>\n",
              "      <td>NaN</td>\n",
              "      <td>NaN</td>\n",
              "      <td>NaN</td>\n",
              "      <td>NaN</td>\n",
              "      <td>NaN</td>\n",
              "      <td>NaN</td>\n",
              "      <td>NaN</td>\n",
              "      <td>NaN</td>\n",
              "      <td>NaN</td>\n",
              "      <td>NaN</td>\n",
              "      <td>NaN</td>\n",
              "      <td>NaN</td>\n",
              "      <td>NaN</td>\n",
              "      <td>NaN</td>\n",
              "      <td>NaN</td>\n",
              "      <td>NaN</td>\n",
              "      <td>NaN</td>\n",
              "      <td>NaN</td>\n",
              "      <td>NaN</td>\n",
              "      <td>NaN</td>\n",
              "      <td>NaN</td>\n",
              "      <td>NaN</td>\n",
              "      <td>NaN</td>\n",
              "      <td>NaN</td>\n",
              "      <td>NaN</td>\n",
              "      <td>NaN</td>\n",
              "      <td>NaN</td>\n",
              "      <td>NaN</td>\n",
              "      <td>NaN</td>\n",
              "      <td>NaN</td>\n",
              "      <td>NaN</td>\n",
              "      <td>NaN</td>\n",
              "      <td>NaN</td>\n",
              "      <td>NaN</td>\n",
              "      <td>NaN</td>\n",
              "      <td>NaN</td>\n",
              "      <td>NaN</td>\n",
              "      <td>NaN</td>\n",
              "      <td>NaN</td>\n",
              "      <td>NaN</td>\n",
              "      <td>NaN</td>\n",
              "      <td>NaN</td>\n",
              "      <td>NaN</td>\n",
              "      <td>NaN</td>\n",
              "      <td>NaN</td>\n",
              "      <td>NaN</td>\n",
              "      <td>NaN</td>\n",
              "      <td>NaN</td>\n",
              "      <td>NaN</td>\n",
              "      <td>NaN</td>\n",
              "      <td>NaN</td>\n",
              "      <td>NaN</td>\n",
              "      <td>NaN</td>\n",
              "      <td>NaN</td>\n",
              "      <td>NaN</td>\n",
              "      <td>NaN</td>\n",
              "      <td>NaN</td>\n",
              "      <td>NaN</td>\n",
              "    </tr>\n",
              "    <tr>\n",
              "      <th>1</th>\n",
              "      <td>2014.0</td>\n",
              "      <td>FORD</td>\n",
              "      <td>ECONOLINE E250</td>\n",
              "      <td>Van</td>\n",
              "      <td>5.4L V8    F SOHC 16V</td>\n",
              "      <td>4</td>\n",
              "      <td>2014-04-19</td>\n",
              "      <td>145140.0</td>\n",
              "      <td>1.0</td>\n",
              "      <td>2600.0</td>\n",
              "      <td>False</td>\n",
              "      <td>15430.0</td>\n",
              "      <td>10530.0</td>\n",
              "      <td>13350.0</td>\n",
              "      <td>Mature &amp; Practical Shoppers</td>\n",
              "      <td>Up For Grabs</td>\n",
              "      <td>Male</td>\n",
              "      <td>Single</td>\n",
              "      <td>56.0</td>\n",
              "      <td>NaN</td>\n",
              "      <td>High School</td>\n",
              "      <td>Catholic</td>\n",
              "      <td>Hispanic</td>\n",
              "      <td>Spanish</td>\n",
              "      <td>Less than $1</td>\n",
              "      <td>NaN</td>\n",
              "      <td>NaN</td>\n",
              "      <td>NaN</td>\n",
              "      <td>NaN</td>\n",
              "      <td>$20K - $30K</td>\n",
              "      <td>One person</td>\n",
              "      <td>One adult</td>\n",
              "      <td>69.0</td>\n",
              "      <td>NaN</td>\n",
              "      <td>Children present</td>\n",
              "      <td>NaN</td>\n",
              "      <td>9th decile</td>\n",
              "      <td>Renter</td>\n",
              "      <td>Single Family</td>\n",
              "      <td>NaN</td>\n",
              "      <td>NaN</td>\n",
              "      <td>NaN</td>\n",
              "      <td>NaN</td>\n",
              "      <td>NaN</td>\n",
              "      <td>NaN</td>\n",
              "      <td>NaN</td>\n",
              "      <td>Owns a credit card</td>\n",
              "      <td>NaN</td>\n",
              "      <td>NaN</td>\n",
              "      <td>NaN</td>\n",
              "      <td>NaN</td>\n",
              "      <td>Yes</td>\n",
              "      <td>NaN</td>\n",
              "      <td>NaN</td>\n",
              "      <td>NaN</td>\n",
              "      <td>NaN</td>\n",
              "      <td>NaN</td>\n",
              "      <td>NaN</td>\n",
              "      <td>NaN</td>\n",
              "      <td>NaN</td>\n",
              "      <td>NaN</td>\n",
              "      <td>NaN</td>\n",
              "      <td>NaN</td>\n",
              "      <td>NaN</td>\n",
              "      <td>NaN</td>\n",
              "      <td>NaN</td>\n",
              "      <td>NaN</td>\n",
              "      <td>NaN</td>\n",
              "      <td>Yes</td>\n",
              "      <td>NaN</td>\n",
              "      <td>NaN</td>\n",
              "      <td>Democratic party</td>\n",
              "      <td>Yes</td>\n",
              "      <td>2 Generations - Adult / Child</td>\n",
              "      <td>L</td>\n",
              "    </tr>\n",
              "    <tr>\n",
              "      <th>2</th>\n",
              "      <td>2016.0</td>\n",
              "      <td>CHEVROLET</td>\n",
              "      <td>CRUZE LS</td>\n",
              "      <td>Sedan 4 DR</td>\n",
              "      <td>1.4L I4    F DOHC 16V</td>\n",
              "      <td>4</td>\n",
              "      <td>2019-08-21</td>\n",
              "      <td>156044.0</td>\n",
              "      <td>2.0</td>\n",
              "      <td>650.0</td>\n",
              "      <td>False</td>\n",
              "      <td>9440.0</td>\n",
              "      <td>5090.0</td>\n",
              "      <td>7630.0</td>\n",
              "      <td>Privacy Matters</td>\n",
              "      <td>Up For Grabs</td>\n",
              "      <td>Female</td>\n",
              "      <td>NaN</td>\n",
              "      <td>NaN</td>\n",
              "      <td>NaN</td>\n",
              "      <td>NaN</td>\n",
              "      <td>NaN</td>\n",
              "      <td>NaN</td>\n",
              "      <td>NaN</td>\n",
              "      <td>NaN</td>\n",
              "      <td>NaN</td>\n",
              "      <td>NaN</td>\n",
              "      <td>NaN</td>\n",
              "      <td>NaN</td>\n",
              "      <td>NaN</td>\n",
              "      <td>One person</td>\n",
              "      <td>NaN</td>\n",
              "      <td>NaN</td>\n",
              "      <td>NaN</td>\n",
              "      <td>NaN</td>\n",
              "      <td>NaN</td>\n",
              "      <td>2nd decile</td>\n",
              "      <td>NaN</td>\n",
              "      <td>Multi Family Dwelling/Apartment</td>\n",
              "      <td>NaN</td>\n",
              "      <td>NaN</td>\n",
              "      <td>NaN</td>\n",
              "      <td>NaN</td>\n",
              "      <td>NaN</td>\n",
              "      <td>NaN</td>\n",
              "      <td>NaN</td>\n",
              "      <td>NaN</td>\n",
              "      <td>NaN</td>\n",
              "      <td>NaN</td>\n",
              "      <td>NaN</td>\n",
              "      <td>NaN</td>\n",
              "      <td>NaN</td>\n",
              "      <td>NaN</td>\n",
              "      <td>NaN</td>\n",
              "      <td>NaN</td>\n",
              "      <td>NaN</td>\n",
              "      <td>NaN</td>\n",
              "      <td>NaN</td>\n",
              "      <td>NaN</td>\n",
              "      <td>NaN</td>\n",
              "      <td>NaN</td>\n",
              "      <td>NaN</td>\n",
              "      <td>NaN</td>\n",
              "      <td>NaN</td>\n",
              "      <td>NaN</td>\n",
              "      <td>NaN</td>\n",
              "      <td>NaN</td>\n",
              "      <td>NaN</td>\n",
              "      <td>NaN</td>\n",
              "      <td>NaN</td>\n",
              "      <td>NaN</td>\n",
              "      <td>NaN</td>\n",
              "      <td>NaN</td>\n",
              "      <td>NaN</td>\n",
              "      <td>NaN</td>\n",
              "    </tr>\n",
              "    <tr>\n",
              "      <th>3</th>\n",
              "      <td>2011.0</td>\n",
              "      <td>NISSAN</td>\n",
              "      <td>TITAN S/SV/SL/PRO-4X</td>\n",
              "      <td>Crew Pickup</td>\n",
              "      <td>5.6L V8    F DOHC 32V</td>\n",
              "      <td>4</td>\n",
              "      <td>2018-08-22</td>\n",
              "      <td>152092.0</td>\n",
              "      <td>4.0</td>\n",
              "      <td>1014.0</td>\n",
              "      <td>True</td>\n",
              "      <td>18570.0</td>\n",
              "      <td>10940.0</td>\n",
              "      <td>15270.0</td>\n",
              "      <td>Rustic Families</td>\n",
              "      <td>At Home And In Bulk</td>\n",
              "      <td>Female</td>\n",
              "      <td>Married</td>\n",
              "      <td>54.0</td>\n",
              "      <td>Tradesman/machine/Laborer</td>\n",
              "      <td>High School</td>\n",
              "      <td>Protestant</td>\n",
              "      <td>English</td>\n",
              "      <td>English</td>\n",
              "      <td>$25,000 - $49,999</td>\n",
              "      <td>$101 - $300</td>\n",
              "      <td>1 Line of credit</td>\n",
              "      <td>Yes</td>\n",
              "      <td>Yes</td>\n",
              "      <td>$90K - $100K</td>\n",
              "      <td>Three persons</td>\n",
              "      <td>Three adults</td>\n",
              "      <td>38.0</td>\n",
              "      <td>9.0</td>\n",
              "      <td>Children present</td>\n",
              "      <td>NaN</td>\n",
              "      <td>9th decile</td>\n",
              "      <td>Home Owner</td>\n",
              "      <td>Single Family</td>\n",
              "      <td>112.0</td>\n",
              "      <td>179.0</td>\n",
              "      <td>237.0</td>\n",
              "      <td>219.0</td>\n",
              "      <td>NaN</td>\n",
              "      <td>Owns a retail card</td>\n",
              "      <td>Owns a credit card</td>\n",
              "      <td>Owns a credit card</td>\n",
              "      <td>Yes</td>\n",
              "      <td>NaN</td>\n",
              "      <td>NaN</td>\n",
              "      <td>NaN</td>\n",
              "      <td>Yes</td>\n",
              "      <td>600-649</td>\n",
              "      <td>NaN</td>\n",
              "      <td>NaN</td>\n",
              "      <td>NaN</td>\n",
              "      <td>NaN</td>\n",
              "      <td>Contributes in general</td>\n",
              "      <td>NaN</td>\n",
              "      <td>Contributes in political causes</td>\n",
              "      <td>NaN</td>\n",
              "      <td>NaN</td>\n",
              "      <td>NaN</td>\n",
              "      <td>Yes</td>\n",
              "      <td>NaN</td>\n",
              "      <td>Purchased home decor products and services</td>\n",
              "      <td>Purchased home improvement products and services</td>\n",
              "      <td>Purchased / subscribed to a magazine</td>\n",
              "      <td>Yes</td>\n",
              "      <td>Yes</td>\n",
              "      <td>Yes</td>\n",
              "      <td>Republican party</td>\n",
              "      <td>Yes</td>\n",
              "      <td>3 Generations - Adult / Child / Parent</td>\n",
              "      <td>NaN</td>\n",
              "    </tr>\n",
              "    <tr>\n",
              "      <th>4</th>\n",
              "      <td>2014.0</td>\n",
              "      <td>LAND ROVER</td>\n",
              "      <td>LR2 HSE</td>\n",
              "      <td>4 Door Wagon/Sport Utility</td>\n",
              "      <td>2.0L I4    F DOHC 16V</td>\n",
              "      <td>4</td>\n",
              "      <td>2019-11-26</td>\n",
              "      <td>47900.0</td>\n",
              "      <td>3.0</td>\n",
              "      <td>553.0</td>\n",
              "      <td>False</td>\n",
              "      <td>19320.0</td>\n",
              "      <td>12960.0</td>\n",
              "      <td>16620.0</td>\n",
              "      <td>Rustic Families</td>\n",
              "      <td>At Home And In Bulk</td>\n",
              "      <td>Female</td>\n",
              "      <td>Married</td>\n",
              "      <td>47.0</td>\n",
              "      <td>Tradesman/machine/Laborer</td>\n",
              "      <td>High School</td>\n",
              "      <td>Protestant</td>\n",
              "      <td>White non-American</td>\n",
              "      <td>English</td>\n",
              "      <td>$25,000 - $49,999</td>\n",
              "      <td>NaN</td>\n",
              "      <td>NaN</td>\n",
              "      <td>Yes</td>\n",
              "      <td>Yes</td>\n",
              "      <td>$70K - $80K</td>\n",
              "      <td>Two persons</td>\n",
              "      <td>Two adults</td>\n",
              "      <td>92.0</td>\n",
              "      <td>8.0</td>\n",
              "      <td>Children present</td>\n",
              "      <td>NaN</td>\n",
              "      <td>7th decile</td>\n",
              "      <td>Home Owner</td>\n",
              "      <td>Single Family</td>\n",
              "      <td>NaN</td>\n",
              "      <td>187.0</td>\n",
              "      <td>187.0</td>\n",
              "      <td>NaN</td>\n",
              "      <td>NaN</td>\n",
              "      <td>Owns a retail card</td>\n",
              "      <td>Owns a credit card</td>\n",
              "      <td>Owns a credit card</td>\n",
              "      <td>Yes</td>\n",
              "      <td>NaN</td>\n",
              "      <td>NaN</td>\n",
              "      <td>NaN</td>\n",
              "      <td>Yes</td>\n",
              "      <td>550-599</td>\n",
              "      <td>NaN</td>\n",
              "      <td>NaN</td>\n",
              "      <td>NaN</td>\n",
              "      <td>NaN</td>\n",
              "      <td>NaN</td>\n",
              "      <td>NaN</td>\n",
              "      <td>NaN</td>\n",
              "      <td>NaN</td>\n",
              "      <td>NaN</td>\n",
              "      <td>NaN</td>\n",
              "      <td>NaN</td>\n",
              "      <td>NaN</td>\n",
              "      <td>Purchased home decor products and services</td>\n",
              "      <td>Purchased home improvement products and services</td>\n",
              "      <td>Purchased / subscribed to a magazine</td>\n",
              "      <td>Yes</td>\n",
              "      <td>Yes</td>\n",
              "      <td>NaN</td>\n",
              "      <td>Independent</td>\n",
              "      <td>Yes</td>\n",
              "      <td>2 Generations - Adult / Child</td>\n",
              "      <td>L</td>\n",
              "    </tr>\n",
              "  </tbody>\n",
              "</table>\n",
              "</div>"
            ],
            "text/plain": [
              "     Year  ... Political Ideology\n",
              "0  2011.0  ...                NaN\n",
              "1  2014.0  ...                  L\n",
              "2  2016.0  ...                NaN\n",
              "3  2011.0  ...                NaN\n",
              "4  2014.0  ...                  L\n",
              "\n",
              "[5 rows x 75 columns]"
            ]
          },
          "metadata": {},
          "execution_count": 4
        }
      ]
    },
    {
      "cell_type": "code",
      "metadata": {
        "id": "sL6Kb26u853i"
      },
      "source": [
        "##dataset.columns"
      ],
      "execution_count": null,
      "outputs": []
    },
    {
      "cell_type": "code",
      "metadata": {
        "id": "nLOWGk4z85Jy"
      },
      "source": [
        "##select columns\n",
        "dataset1=dataset[['Year', 'Make', 'Model', 'Body Style', 'Engine', 'TireQuantity',\n",
        "       'Vehicle Purchase Date', 'Estimated Current Odometer',\n",
        "       'Number Of Owners', 'Last Owner Length Of Ownership In Days',\n",
        "       'Lienholder', 'Retail', 'Wholesale', 'Private Party',\n",
        "       'Vista Type', 'Gender Code', 'Marital Status', 'Age', 'Occupation',\n",
        "       'Education Level','Wealth Rating','Home Ownership','Credit Card']]"
      ],
      "execution_count": 39,
      "outputs": []
    },
    {
      "cell_type": "code",
      "metadata": {
        "colab": {
          "base_uri": "https://localhost:8080/"
        },
        "id": "zEBlyWBK6exF",
        "outputId": "4272c754-6017-4613-b2ea-7372a4441fae"
      },
      "source": [
        "##rename里几个columns\n",
        "dataset1.rename(columns = {\"Gender Code\": \"GenderCode\"},inplace=True) \n",
        "dataset1.rename(columns = {\"Body Style\": \"BodyStyle\"},inplace=True) \n",
        "dataset1.rename(columns = {\"Vehicle Purchase Date\": \"PurchaseDate\"},inplace=True) \n",
        "dataset1.rename(columns = {\"Estimated Current Odometer\": \"EstimatedCurrentOdometer\"},inplace=True) \n",
        "dataset1.rename(columns = {\"Wealth Rating\": \"WealthRating\"},inplace=True) \n",
        "dataset1.rename(columns = {\"Home Ownership\": \"HomeOwnership\"},inplace=True) \n",
        "dataset1.rename(columns = {\"Credit Card\": \"CreditCard\"},inplace=True) \n",
        "dataset1.rename(columns = {\"Education Level\": \"EducationLevel\"},inplace=True) "
      ],
      "execution_count": 40,
      "outputs": [
        {
          "output_type": "stream",
          "name": "stderr",
          "text": [
            "/usr/local/lib/python3.7/dist-packages/pandas/core/frame.py:4308: SettingWithCopyWarning: \n",
            "A value is trying to be set on a copy of a slice from a DataFrame\n",
            "\n",
            "See the caveats in the documentation: https://pandas.pydata.org/pandas-docs/stable/user_guide/indexing.html#returning-a-view-versus-a-copy\n",
            "  errors=errors,\n"
          ]
        }
      ]
    },
    {
      "cell_type": "code",
      "metadata": {
        "colab": {
          "base_uri": "https://localhost:8080/"
        },
        "id": "D2apwr3zdsO5",
        "outputId": "05eb8152-b1d3-4b6a-9410-74c0fdd12b3d"
      },
      "source": [
        "dataset1.describe().transpose()\n",
        "dataset1.CreditCard"
      ],
      "execution_count": 41,
      "outputs": [
        {
          "output_type": "execute_result",
          "data": {
            "text/plain": [
              "0                       NaN\n",
              "1        Owns a credit card\n",
              "2                       NaN\n",
              "3        Owns a credit card\n",
              "4        Owns a credit card\n",
              "                ...        \n",
              "12197                   NaN\n",
              "12198                   NaN\n",
              "12199                   NaN\n",
              "12200                   NaN\n",
              "12201    Owns a credit card\n",
              "Name: CreditCard, Length: 12202, dtype: object"
            ]
          },
          "metadata": {},
          "execution_count": 41
        }
      ]
    },
    {
      "cell_type": "code",
      "metadata": {
        "colab": {
          "base_uri": "https://localhost:8080/",
          "height": 1000
        },
        "id": "bRGfFQTJKlLR",
        "outputId": "dee8e42e-d85b-4428-b92c-0fc1094b8f5c"
      },
      "source": [
        "##gender \n",
        "dataset1.GenderCode[dataset1.GenderCode==\"Female\"]=0\n",
        "dataset1.GenderCode[dataset1.GenderCode==\"Male\"]=1\n",
        "# Lienholder\n",
        "dataset1.Lienholder[dataset1.Lienholder==True]=1\n",
        "dataset1.Lienholder[dataset1.Lienholder==False]=0\n",
        "#creditcard\n",
        "dataset1.CreditCard[dataset1.CreditCard==\"Owns a credit card\"]=1\n",
        "dataset1.CreditCard[dataset1.CreditCard.apply(math.isnan)]=0\n",
        "\n",
        "##Wealth rating \n",
        "dataset1[\"WealthRating\"]=dataset1.WealthRating.str.replace(r\"[a-zA-Z]\",'')\n",
        "           \n",
        " ##add year and month                      \n",
        "#dataset1['PurchaseYear'] = dataset1['PurchaseDate'].dt.to_period('Y')\n",
        "dataset1['PurchaseYear'] = pd.DatetimeIndex(dataset1['PurchaseDate']).year\n",
        "dataset1['PurchaseMonth'] = pd.DatetimeIndex(dataset1['PurchaseDate']).month\n",
        "\n",
        "dataset1 = dataset1.reset_index()\n",
        "dataset1.head()\n",
        " "
      ],
      "execution_count": 42,
      "outputs": [
        {
          "output_type": "stream",
          "name": "stderr",
          "text": [
            "/usr/local/lib/python3.7/dist-packages/ipykernel_launcher.py:2: SettingWithCopyWarning: \n",
            "A value is trying to be set on a copy of a slice from a DataFrame\n",
            "\n",
            "See the caveats in the documentation: https://pandas.pydata.org/pandas-docs/stable/user_guide/indexing.html#returning-a-view-versus-a-copy\n",
            "  \n",
            "/usr/local/lib/python3.7/dist-packages/pandas/core/series.py:1021: SettingWithCopyWarning: \n",
            "A value is trying to be set on a copy of a slice from a DataFrame\n",
            "\n",
            "See the caveats in the documentation: https://pandas.pydata.org/pandas-docs/stable/user_guide/indexing.html#returning-a-view-versus-a-copy\n",
            "  self._where(~key, value, inplace=True)\n",
            "/usr/local/lib/python3.7/dist-packages/ipykernel_launcher.py:3: SettingWithCopyWarning: \n",
            "A value is trying to be set on a copy of a slice from a DataFrame\n",
            "\n",
            "See the caveats in the documentation: https://pandas.pydata.org/pandas-docs/stable/user_guide/indexing.html#returning-a-view-versus-a-copy\n",
            "  This is separate from the ipykernel package so we can avoid doing imports until\n",
            "/usr/local/lib/python3.7/dist-packages/ipykernel_launcher.py:5: SettingWithCopyWarning: \n",
            "A value is trying to be set on a copy of a slice from a DataFrame\n",
            "\n",
            "See the caveats in the documentation: https://pandas.pydata.org/pandas-docs/stable/user_guide/indexing.html#returning-a-view-versus-a-copy\n",
            "  \"\"\"\n",
            "/usr/local/lib/python3.7/dist-packages/pandas/core/series.py:1021: SettingWithCopyWarning: \n",
            "A value is trying to be set on a copy of a slice from a DataFrame\n",
            "\n",
            "See the caveats in the documentation: https://pandas.pydata.org/pandas-docs/stable/user_guide/indexing.html#returning-a-view-versus-a-copy\n",
            "  self._where(~key, value, inplace=True)\n",
            "/usr/local/lib/python3.7/dist-packages/ipykernel_launcher.py:6: SettingWithCopyWarning: \n",
            "A value is trying to be set on a copy of a slice from a DataFrame\n",
            "\n",
            "See the caveats in the documentation: https://pandas.pydata.org/pandas-docs/stable/user_guide/indexing.html#returning-a-view-versus-a-copy\n",
            "  \n",
            "/usr/local/lib/python3.7/dist-packages/pandas/core/series.py:1021: SettingWithCopyWarning: \n",
            "A value is trying to be set on a copy of a slice from a DataFrame\n",
            "\n",
            "See the caveats in the documentation: https://pandas.pydata.org/pandas-docs/stable/user_guide/indexing.html#returning-a-view-versus-a-copy\n",
            "  self._where(~key, value, inplace=True)\n",
            "/usr/local/lib/python3.7/dist-packages/ipykernel_launcher.py:8: SettingWithCopyWarning: \n",
            "A value is trying to be set on a copy of a slice from a DataFrame\n",
            "\n",
            "See the caveats in the documentation: https://pandas.pydata.org/pandas-docs/stable/user_guide/indexing.html#returning-a-view-versus-a-copy\n",
            "  \n",
            "/usr/local/lib/python3.7/dist-packages/ipykernel_launcher.py:9: SettingWithCopyWarning: \n",
            "A value is trying to be set on a copy of a slice from a DataFrame\n",
            "\n",
            "See the caveats in the documentation: https://pandas.pydata.org/pandas-docs/stable/user_guide/indexing.html#returning-a-view-versus-a-copy\n",
            "  if __name__ == '__main__':\n",
            "/usr/local/lib/python3.7/dist-packages/ipykernel_launcher.py:12: SettingWithCopyWarning: \n",
            "A value is trying to be set on a copy of a slice from a DataFrame.\n",
            "Try using .loc[row_indexer,col_indexer] = value instead\n",
            "\n",
            "See the caveats in the documentation: https://pandas.pydata.org/pandas-docs/stable/user_guide/indexing.html#returning-a-view-versus-a-copy\n",
            "  if sys.path[0] == '':\n",
            "/usr/local/lib/python3.7/dist-packages/ipykernel_launcher.py:13: SettingWithCopyWarning: \n",
            "A value is trying to be set on a copy of a slice from a DataFrame.\n",
            "Try using .loc[row_indexer,col_indexer] = value instead\n",
            "\n",
            "See the caveats in the documentation: https://pandas.pydata.org/pandas-docs/stable/user_guide/indexing.html#returning-a-view-versus-a-copy\n",
            "  del sys.path[0]\n",
            "/usr/local/lib/python3.7/dist-packages/ipykernel_launcher.py:16: SettingWithCopyWarning: \n",
            "A value is trying to be set on a copy of a slice from a DataFrame.\n",
            "Try using .loc[row_indexer,col_indexer] = value instead\n",
            "\n",
            "See the caveats in the documentation: https://pandas.pydata.org/pandas-docs/stable/user_guide/indexing.html#returning-a-view-versus-a-copy\n",
            "  app.launch_new_instance()\n",
            "/usr/local/lib/python3.7/dist-packages/ipykernel_launcher.py:17: SettingWithCopyWarning: \n",
            "A value is trying to be set on a copy of a slice from a DataFrame.\n",
            "Try using .loc[row_indexer,col_indexer] = value instead\n",
            "\n",
            "See the caveats in the documentation: https://pandas.pydata.org/pandas-docs/stable/user_guide/indexing.html#returning-a-view-versus-a-copy\n"
          ]
        },
        {
          "output_type": "execute_result",
          "data": {
            "text/html": [
              "<div>\n",
              "<style scoped>\n",
              "    .dataframe tbody tr th:only-of-type {\n",
              "        vertical-align: middle;\n",
              "    }\n",
              "\n",
              "    .dataframe tbody tr th {\n",
              "        vertical-align: top;\n",
              "    }\n",
              "\n",
              "    .dataframe thead th {\n",
              "        text-align: right;\n",
              "    }\n",
              "</style>\n",
              "<table border=\"1\" class=\"dataframe\">\n",
              "  <thead>\n",
              "    <tr style=\"text-align: right;\">\n",
              "      <th></th>\n",
              "      <th>Year</th>\n",
              "      <th>Make</th>\n",
              "      <th>Model</th>\n",
              "      <th>BodyStyle</th>\n",
              "      <th>Engine</th>\n",
              "      <th>TireQuantity</th>\n",
              "      <th>PurchaseDate</th>\n",
              "      <th>EstimatedCurrentOdometer</th>\n",
              "      <th>Number Of Owners</th>\n",
              "      <th>Last Owner Length Of Ownership In Days</th>\n",
              "      <th>Lienholder</th>\n",
              "      <th>Retail</th>\n",
              "      <th>Wholesale</th>\n",
              "      <th>Private Party</th>\n",
              "      <th>Vista Type</th>\n",
              "      <th>GenderCode</th>\n",
              "      <th>Marital Status</th>\n",
              "      <th>Age</th>\n",
              "      <th>Occupation</th>\n",
              "      <th>EducationLevel</th>\n",
              "      <th>WealthRating</th>\n",
              "      <th>HomeOwnership</th>\n",
              "      <th>CreditCard</th>\n",
              "      <th>PurchaseYear</th>\n",
              "      <th>PurchaseMonth</th>\n",
              "    </tr>\n",
              "  </thead>\n",
              "  <tbody>\n",
              "    <tr>\n",
              "      <th>0</th>\n",
              "      <td>2011.0</td>\n",
              "      <td>KIA</td>\n",
              "      <td>SORENTO SX</td>\n",
              "      <td>4 Door Wagon/Sport Utility</td>\n",
              "      <td>3.5L V6    F DOHC 24V</td>\n",
              "      <td>4</td>\n",
              "      <td>2017-09-28</td>\n",
              "      <td>79616.0</td>\n",
              "      <td>3.0</td>\n",
              "      <td>1342.0</td>\n",
              "      <td>0.0</td>\n",
              "      <td>11220.0</td>\n",
              "      <td>6610.0</td>\n",
              "      <td>9220.0</td>\n",
              "      <td>NaN</td>\n",
              "      <td>NaN</td>\n",
              "      <td>NaN</td>\n",
              "      <td>NaN</td>\n",
              "      <td>NaN</td>\n",
              "      <td>NaN</td>\n",
              "      <td>NaN</td>\n",
              "      <td>NaN</td>\n",
              "      <td>0</td>\n",
              "      <td>2017.0</td>\n",
              "      <td>9.0</td>\n",
              "    </tr>\n",
              "    <tr>\n",
              "      <th>1</th>\n",
              "      <td>2014.0</td>\n",
              "      <td>FORD</td>\n",
              "      <td>ECONOLINE E250</td>\n",
              "      <td>Van</td>\n",
              "      <td>5.4L V8    F SOHC 16V</td>\n",
              "      <td>4</td>\n",
              "      <td>2014-04-19</td>\n",
              "      <td>145140.0</td>\n",
              "      <td>1.0</td>\n",
              "      <td>2600.0</td>\n",
              "      <td>0.0</td>\n",
              "      <td>15430.0</td>\n",
              "      <td>10530.0</td>\n",
              "      <td>13350.0</td>\n",
              "      <td>Up For Grabs</td>\n",
              "      <td>1</td>\n",
              "      <td>Single</td>\n",
              "      <td>56.0</td>\n",
              "      <td>NaN</td>\n",
              "      <td>High School</td>\n",
              "      <td>9</td>\n",
              "      <td>Renter</td>\n",
              "      <td>1</td>\n",
              "      <td>2014.0</td>\n",
              "      <td>4.0</td>\n",
              "    </tr>\n",
              "    <tr>\n",
              "      <th>2</th>\n",
              "      <td>2016.0</td>\n",
              "      <td>CHEVROLET</td>\n",
              "      <td>CRUZE LS</td>\n",
              "      <td>Sedan 4 DR</td>\n",
              "      <td>1.4L I4    F DOHC 16V</td>\n",
              "      <td>4</td>\n",
              "      <td>2019-08-21</td>\n",
              "      <td>156044.0</td>\n",
              "      <td>2.0</td>\n",
              "      <td>650.0</td>\n",
              "      <td>0.0</td>\n",
              "      <td>9440.0</td>\n",
              "      <td>5090.0</td>\n",
              "      <td>7630.0</td>\n",
              "      <td>Up For Grabs</td>\n",
              "      <td>0</td>\n",
              "      <td>NaN</td>\n",
              "      <td>NaN</td>\n",
              "      <td>NaN</td>\n",
              "      <td>NaN</td>\n",
              "      <td>2</td>\n",
              "      <td>NaN</td>\n",
              "      <td>0</td>\n",
              "      <td>2019.0</td>\n",
              "      <td>8.0</td>\n",
              "    </tr>\n",
              "    <tr>\n",
              "      <th>3</th>\n",
              "      <td>2011.0</td>\n",
              "      <td>NISSAN</td>\n",
              "      <td>TITAN S/SV/SL/PRO-4X</td>\n",
              "      <td>Crew Pickup</td>\n",
              "      <td>5.6L V8    F DOHC 32V</td>\n",
              "      <td>4</td>\n",
              "      <td>2018-08-22</td>\n",
              "      <td>152092.0</td>\n",
              "      <td>4.0</td>\n",
              "      <td>1014.0</td>\n",
              "      <td>1.0</td>\n",
              "      <td>18570.0</td>\n",
              "      <td>10940.0</td>\n",
              "      <td>15270.0</td>\n",
              "      <td>At Home And In Bulk</td>\n",
              "      <td>0</td>\n",
              "      <td>Married</td>\n",
              "      <td>54.0</td>\n",
              "      <td>Tradesman/machine/Laborer</td>\n",
              "      <td>High School</td>\n",
              "      <td>9</td>\n",
              "      <td>Home Owner</td>\n",
              "      <td>1</td>\n",
              "      <td>2018.0</td>\n",
              "      <td>8.0</td>\n",
              "    </tr>\n",
              "    <tr>\n",
              "      <th>4</th>\n",
              "      <td>2014.0</td>\n",
              "      <td>LAND ROVER</td>\n",
              "      <td>LR2 HSE</td>\n",
              "      <td>4 Door Wagon/Sport Utility</td>\n",
              "      <td>2.0L I4    F DOHC 16V</td>\n",
              "      <td>4</td>\n",
              "      <td>2019-11-26</td>\n",
              "      <td>47900.0</td>\n",
              "      <td>3.0</td>\n",
              "      <td>553.0</td>\n",
              "      <td>0.0</td>\n",
              "      <td>19320.0</td>\n",
              "      <td>12960.0</td>\n",
              "      <td>16620.0</td>\n",
              "      <td>At Home And In Bulk</td>\n",
              "      <td>0</td>\n",
              "      <td>Married</td>\n",
              "      <td>47.0</td>\n",
              "      <td>Tradesman/machine/Laborer</td>\n",
              "      <td>High School</td>\n",
              "      <td>7</td>\n",
              "      <td>Home Owner</td>\n",
              "      <td>1</td>\n",
              "      <td>2019.0</td>\n",
              "      <td>11.0</td>\n",
              "    </tr>\n",
              "  </tbody>\n",
              "</table>\n",
              "</div>"
            ],
            "text/plain": [
              "     Year        Make  ... PurchaseYear PurchaseMonth\n",
              "0  2011.0         KIA  ...       2017.0           9.0\n",
              "1  2014.0        FORD  ...       2014.0           4.0\n",
              "2  2016.0   CHEVROLET  ...       2019.0           8.0\n",
              "3  2011.0      NISSAN  ...       2018.0           8.0\n",
              "4  2014.0  LAND ROVER  ...       2019.0          11.0\n",
              "\n",
              "[5 rows x 25 columns]"
            ]
          },
          "metadata": {},
          "execution_count": 42
        }
      ]
    },
    {
      "cell_type": "code",
      "metadata": {
        "colab": {
          "base_uri": "https://localhost:8080/",
          "height": 991
        },
        "id": "wjx-XMX-DxC7",
        "outputId": "503bfd11-d4b1-4d8c-b1f3-8ed76b1f68f5"
      },
      "source": [
        "##eliminate all the Nan from gender \n",
        "## remove nan or not: def isNotNan(x):\n",
        "    return not(math.isnan(x))\n",
        "\n",
        "dataset1 = dataset1[dataset1.GenderCode.apply(isNotNan)]\n",
        "dataset1"
      ],
      "execution_count": 38,
      "outputs": [
        {
          "output_type": "execute_result",
          "data": {
            "text/html": [
              "<div>\n",
              "<style scoped>\n",
              "    .dataframe tbody tr th:only-of-type {\n",
              "        vertical-align: middle;\n",
              "    }\n",
              "\n",
              "    .dataframe tbody tr th {\n",
              "        vertical-align: top;\n",
              "    }\n",
              "\n",
              "    .dataframe thead th {\n",
              "        text-align: right;\n",
              "    }\n",
              "</style>\n",
              "<table border=\"1\" class=\"dataframe\">\n",
              "  <thead>\n",
              "    <tr style=\"text-align: right;\">\n",
              "      <th></th>\n",
              "      <th>Year</th>\n",
              "      <th>Make</th>\n",
              "      <th>Model</th>\n",
              "      <th>BodyStyle</th>\n",
              "      <th>Engine</th>\n",
              "      <th>TireQuantity</th>\n",
              "      <th>PurchaseDate</th>\n",
              "      <th>EstimatedCurrentOdometer</th>\n",
              "      <th>Number Of Owners</th>\n",
              "      <th>Last Owner Length Of Ownership In Days</th>\n",
              "      <th>Lienholder</th>\n",
              "      <th>Retail</th>\n",
              "      <th>Wholesale</th>\n",
              "      <th>Private Party</th>\n",
              "      <th>Vista Type</th>\n",
              "      <th>GenderCode</th>\n",
              "      <th>Marital Status</th>\n",
              "      <th>Age</th>\n",
              "      <th>Occupation</th>\n",
              "      <th>EducationLevel</th>\n",
              "      <th>WealthRating</th>\n",
              "      <th>HomeOwnership</th>\n",
              "      <th>CreditCard</th>\n",
              "      <th>PurchaseYear</th>\n",
              "      <th>PurchaseMonth</th>\n",
              "    </tr>\n",
              "  </thead>\n",
              "  <tbody>\n",
              "    <tr>\n",
              "      <th>1</th>\n",
              "      <td>2014.0</td>\n",
              "      <td>FORD</td>\n",
              "      <td>ECONOLINE E250</td>\n",
              "      <td>Van</td>\n",
              "      <td>5.4L V8    F SOHC 16V</td>\n",
              "      <td>4</td>\n",
              "      <td>2014-04-19</td>\n",
              "      <td>145140.0</td>\n",
              "      <td>1.0</td>\n",
              "      <td>2600.0</td>\n",
              "      <td>0.0</td>\n",
              "      <td>15430.0</td>\n",
              "      <td>10530.0</td>\n",
              "      <td>13350.0</td>\n",
              "      <td>Up For Grabs</td>\n",
              "      <td>1</td>\n",
              "      <td>Single</td>\n",
              "      <td>56.0</td>\n",
              "      <td>NaN</td>\n",
              "      <td>High School</td>\n",
              "      <td>9</td>\n",
              "      <td>Renter</td>\n",
              "      <td>1</td>\n",
              "      <td>2014.0</td>\n",
              "      <td>4.0</td>\n",
              "    </tr>\n",
              "    <tr>\n",
              "      <th>2</th>\n",
              "      <td>2016.0</td>\n",
              "      <td>CHEVROLET</td>\n",
              "      <td>CRUZE LS</td>\n",
              "      <td>Sedan 4 DR</td>\n",
              "      <td>1.4L I4    F DOHC 16V</td>\n",
              "      <td>4</td>\n",
              "      <td>2019-08-21</td>\n",
              "      <td>156044.0</td>\n",
              "      <td>2.0</td>\n",
              "      <td>650.0</td>\n",
              "      <td>0.0</td>\n",
              "      <td>9440.0</td>\n",
              "      <td>5090.0</td>\n",
              "      <td>7630.0</td>\n",
              "      <td>Up For Grabs</td>\n",
              "      <td>0</td>\n",
              "      <td>NaN</td>\n",
              "      <td>NaN</td>\n",
              "      <td>NaN</td>\n",
              "      <td>NaN</td>\n",
              "      <td>2</td>\n",
              "      <td>NaN</td>\n",
              "      <td>0</td>\n",
              "      <td>2019.0</td>\n",
              "      <td>8.0</td>\n",
              "    </tr>\n",
              "    <tr>\n",
              "      <th>3</th>\n",
              "      <td>2011.0</td>\n",
              "      <td>NISSAN</td>\n",
              "      <td>TITAN S/SV/SL/PRO-4X</td>\n",
              "      <td>Crew Pickup</td>\n",
              "      <td>5.6L V8    F DOHC 32V</td>\n",
              "      <td>4</td>\n",
              "      <td>2018-08-22</td>\n",
              "      <td>152092.0</td>\n",
              "      <td>4.0</td>\n",
              "      <td>1014.0</td>\n",
              "      <td>1.0</td>\n",
              "      <td>18570.0</td>\n",
              "      <td>10940.0</td>\n",
              "      <td>15270.0</td>\n",
              "      <td>At Home And In Bulk</td>\n",
              "      <td>0</td>\n",
              "      <td>Married</td>\n",
              "      <td>54.0</td>\n",
              "      <td>Tradesman/machine/Laborer</td>\n",
              "      <td>High School</td>\n",
              "      <td>9</td>\n",
              "      <td>Home Owner</td>\n",
              "      <td>1</td>\n",
              "      <td>2018.0</td>\n",
              "      <td>8.0</td>\n",
              "    </tr>\n",
              "    <tr>\n",
              "      <th>4</th>\n",
              "      <td>2014.0</td>\n",
              "      <td>LAND ROVER</td>\n",
              "      <td>LR2 HSE</td>\n",
              "      <td>4 Door Wagon/Sport Utility</td>\n",
              "      <td>2.0L I4    F DOHC 16V</td>\n",
              "      <td>4</td>\n",
              "      <td>2019-11-26</td>\n",
              "      <td>47900.0</td>\n",
              "      <td>3.0</td>\n",
              "      <td>553.0</td>\n",
              "      <td>0.0</td>\n",
              "      <td>19320.0</td>\n",
              "      <td>12960.0</td>\n",
              "      <td>16620.0</td>\n",
              "      <td>At Home And In Bulk</td>\n",
              "      <td>0</td>\n",
              "      <td>Married</td>\n",
              "      <td>47.0</td>\n",
              "      <td>Tradesman/machine/Laborer</td>\n",
              "      <td>High School</td>\n",
              "      <td>7</td>\n",
              "      <td>Home Owner</td>\n",
              "      <td>1</td>\n",
              "      <td>2019.0</td>\n",
              "      <td>11.0</td>\n",
              "    </tr>\n",
              "    <tr>\n",
              "      <th>8</th>\n",
              "      <td>2008.0</td>\n",
              "      <td>NISSAN</td>\n",
              "      <td>ROGUE S/SL</td>\n",
              "      <td>4 Door Wagon/Sport Utility</td>\n",
              "      <td>2.5L I4    F DOHC 16V</td>\n",
              "      <td>2</td>\n",
              "      <td>2016-05-07</td>\n",
              "      <td>105438.0</td>\n",
              "      <td>4.0</td>\n",
              "      <td>1851.0</td>\n",
              "      <td>0.0</td>\n",
              "      <td>8000.0</td>\n",
              "      <td>4280.0</td>\n",
              "      <td>6390.0</td>\n",
              "      <td>At Home And In Bulk</td>\n",
              "      <td>1</td>\n",
              "      <td>Married</td>\n",
              "      <td>59.0</td>\n",
              "      <td>Clerical or Service Worker</td>\n",
              "      <td>Some College</td>\n",
              "      <td>9</td>\n",
              "      <td>Home Owner</td>\n",
              "      <td>1</td>\n",
              "      <td>2016.0</td>\n",
              "      <td>5.0</td>\n",
              "    </tr>\n",
              "    <tr>\n",
              "      <th>...</th>\n",
              "      <td>...</td>\n",
              "      <td>...</td>\n",
              "      <td>...</td>\n",
              "      <td>...</td>\n",
              "      <td>...</td>\n",
              "      <td>...</td>\n",
              "      <td>...</td>\n",
              "      <td>...</td>\n",
              "      <td>...</td>\n",
              "      <td>...</td>\n",
              "      <td>...</td>\n",
              "      <td>...</td>\n",
              "      <td>...</td>\n",
              "      <td>...</td>\n",
              "      <td>...</td>\n",
              "      <td>...</td>\n",
              "      <td>...</td>\n",
              "      <td>...</td>\n",
              "      <td>...</td>\n",
              "      <td>...</td>\n",
              "      <td>...</td>\n",
              "      <td>...</td>\n",
              "      <td>...</td>\n",
              "      <td>...</td>\n",
              "      <td>...</td>\n",
              "    </tr>\n",
              "    <tr>\n",
              "      <th>12187</th>\n",
              "      <td>2017.0</td>\n",
              "      <td>FORD</td>\n",
              "      <td>F150 SUPERCREW</td>\n",
              "      <td>Crew Pickup</td>\n",
              "      <td>3.5L V6    F DOHC 24V</td>\n",
              "      <td>4</td>\n",
              "      <td>2017-12-01</td>\n",
              "      <td>28066.0</td>\n",
              "      <td>1.0</td>\n",
              "      <td>1278.0</td>\n",
              "      <td>0.0</td>\n",
              "      <td>40500.0</td>\n",
              "      <td>34890.0</td>\n",
              "      <td>38240.0</td>\n",
              "      <td>At Home And In Bulk</td>\n",
              "      <td>1</td>\n",
              "      <td>Married</td>\n",
              "      <td>58.0</td>\n",
              "      <td>Tradesman/machine/Laborer</td>\n",
              "      <td>Some College</td>\n",
              "      <td>9</td>\n",
              "      <td>Home Owner</td>\n",
              "      <td>1</td>\n",
              "      <td>2017.0</td>\n",
              "      <td>12.0</td>\n",
              "    </tr>\n",
              "    <tr>\n",
              "      <th>12188</th>\n",
              "      <td>2012.0</td>\n",
              "      <td>KIA</td>\n",
              "      <td>SORENTO EX</td>\n",
              "      <td>4 Door Wagon/Sport Utility</td>\n",
              "      <td>2.4L I4    F DOHC 16V</td>\n",
              "      <td>2</td>\n",
              "      <td>2011-11-09</td>\n",
              "      <td>182503.0</td>\n",
              "      <td>1.0</td>\n",
              "      <td>3492.0</td>\n",
              "      <td>0.0</td>\n",
              "      <td>8460.0</td>\n",
              "      <td>4990.0</td>\n",
              "      <td>6960.0</td>\n",
              "      <td>Thrifty Shoppers</td>\n",
              "      <td>1</td>\n",
              "      <td>NaN</td>\n",
              "      <td>22.0</td>\n",
              "      <td>NaN</td>\n",
              "      <td>NaN</td>\n",
              "      <td>9</td>\n",
              "      <td>Home Owner</td>\n",
              "      <td>0</td>\n",
              "      <td>2011.0</td>\n",
              "      <td>11.0</td>\n",
              "    </tr>\n",
              "    <tr>\n",
              "      <th>12189</th>\n",
              "      <td>2001.0</td>\n",
              "      <td>CHEVROLET</td>\n",
              "      <td>SILVERADO C3500</td>\n",
              "      <td>chassis and Cab</td>\n",
              "      <td>6.0L V8    F</td>\n",
              "      <td>4</td>\n",
              "      <td>2002-02-16</td>\n",
              "      <td>159494.0</td>\n",
              "      <td>1.0</td>\n",
              "      <td>7045.0</td>\n",
              "      <td>0.0</td>\n",
              "      <td>NaN</td>\n",
              "      <td>NaN</td>\n",
              "      <td>NaN</td>\n",
              "      <td>Healthy And Wealthy</td>\n",
              "      <td>1</td>\n",
              "      <td>Married</td>\n",
              "      <td>63.0</td>\n",
              "      <td>Clerical or Service Worker</td>\n",
              "      <td>High School</td>\n",
              "      <td>1  ( 10%)</td>\n",
              "      <td>Home Owner</td>\n",
              "      <td>1</td>\n",
              "      <td>2002.0</td>\n",
              "      <td>2.0</td>\n",
              "    </tr>\n",
              "    <tr>\n",
              "      <th>12192</th>\n",
              "      <td>2015.0</td>\n",
              "      <td>HONDA</td>\n",
              "      <td>ODYSSEY LX</td>\n",
              "      <td>Van</td>\n",
              "      <td>3.5L V6    F SOHC 24V</td>\n",
              "      <td>2</td>\n",
              "      <td>2015-10-13</td>\n",
              "      <td>58471.0</td>\n",
              "      <td>1.0</td>\n",
              "      <td>2058.0</td>\n",
              "      <td>0.0</td>\n",
              "      <td>18020.0</td>\n",
              "      <td>12120.0</td>\n",
              "      <td>15560.0</td>\n",
              "      <td>At Home And In Bulk</td>\n",
              "      <td>0</td>\n",
              "      <td>Married</td>\n",
              "      <td>41.0</td>\n",
              "      <td>Professional/Technical</td>\n",
              "      <td>Some College</td>\n",
              "      <td>7</td>\n",
              "      <td>Home Owner</td>\n",
              "      <td>1</td>\n",
              "      <td>2015.0</td>\n",
              "      <td>10.0</td>\n",
              "    </tr>\n",
              "    <tr>\n",
              "      <th>12201</th>\n",
              "      <td>2016.0</td>\n",
              "      <td>VOLKSWAGEN</td>\n",
              "      <td>TIGUAN S/SE/SEL/R-LINE</td>\n",
              "      <td>4 Door Wagon/Sport Utility</td>\n",
              "      <td>2.0L I4    F DOHC 16V</td>\n",
              "      <td>2</td>\n",
              "      <td>2017-11-21</td>\n",
              "      <td>71032.0</td>\n",
              "      <td>2.0</td>\n",
              "      <td>1288.0</td>\n",
              "      <td>0.0</td>\n",
              "      <td>17850.0</td>\n",
              "      <td>14300.0</td>\n",
              "      <td>16370.0</td>\n",
              "      <td>Healthy And Wealthy</td>\n",
              "      <td>1</td>\n",
              "      <td>Married</td>\n",
              "      <td>55.0</td>\n",
              "      <td>Professional/Technical</td>\n",
              "      <td>High School</td>\n",
              "      <td>4</td>\n",
              "      <td>Home Owner</td>\n",
              "      <td>1</td>\n",
              "      <td>2017.0</td>\n",
              "      <td>11.0</td>\n",
              "    </tr>\n",
              "  </tbody>\n",
              "</table>\n",
              "<p>5804 rows × 25 columns</p>\n",
              "</div>"
            ],
            "text/plain": [
              "         Year        Make  ... PurchaseYear PurchaseMonth\n",
              "1      2014.0        FORD  ...       2014.0           4.0\n",
              "2      2016.0   CHEVROLET  ...       2019.0           8.0\n",
              "3      2011.0      NISSAN  ...       2018.0           8.0\n",
              "4      2014.0  LAND ROVER  ...       2019.0          11.0\n",
              "8      2008.0      NISSAN  ...       2016.0           5.0\n",
              "...       ...         ...  ...          ...           ...\n",
              "12187  2017.0        FORD  ...       2017.0          12.0\n",
              "12188  2012.0         KIA  ...       2011.0          11.0\n",
              "12189  2001.0   CHEVROLET  ...       2002.0           2.0\n",
              "12192  2015.0       HONDA  ...       2015.0          10.0\n",
              "12201  2016.0  VOLKSWAGEN  ...       2017.0          11.0\n",
              "\n",
              "[5804 rows x 25 columns]"
            ]
          },
          "metadata": {},
          "execution_count": 38
        }
      ]
    },
    {
      "cell_type": "code",
      "metadata": {
        "colab": {
          "base_uri": "https://localhost:8080/",
          "height": 279
        },
        "id": "j-Cp3ClHdsO9",
        "outputId": "5c03fc04-3f33-45e8-891d-2d9e1b68b4f5"
      },
      "source": [
        "vis1 = sns.boxplot(data=dataset1,x=\"EducationLevel\",y=\"EstimatedCurrentOdometer\")"
      ],
      "execution_count": 43,
      "outputs": [
        {
          "output_type": "display_data",
          "data": {
            "image/png": "[encoded data removed]",
            "text/plain": [
              "<Figure size 432x288 with 1 Axes>"
            ]
          },
          "metadata": {
            "needs_background": "light"
          }
        }
      ]
    },
    {
      "cell_type": "code",
      "metadata": {
        "colab": {
          "base_uri": "https://localhost:8080/",
          "height": 333
        },
        "id": "krV3n7zPmtTx",
        "outputId": "b83f8d4a-152a-4d35-94d0-113d9d6916f9"
      },
      "source": [
        "vis2 = sns.distplot(dataset1[\"Age\"],bins=30)"
      ],
      "execution_count": 44,
      "outputs": [
        {
          "output_type": "stream",
          "name": "stderr",
          "text": [
            "/usr/local/lib/python3.7/dist-packages/seaborn/distributions.py:2619: FutureWarning: `distplot` is a deprecated function and will be removed in a future version. Please adapt your code to use either `displot` (a figure-level function with similar flexibility) or `histplot` (an axes-level function for histograms).\n",
            "  warnings.warn(msg, FutureWarning)\n"
          ]
        },
        {
          "output_type": "display_data",
          "data": {
            "image/png": "[encoded data removed]",
            "text/plain": [
              "<Figure size 432x288 with 1 Axes>"
            ]
          },
          "metadata": {
            "needs_background": "light"
          }
        }
      ]
    },
    {
      "cell_type": "code",
      "metadata": {
        "colab": {
          "base_uri": "https://localhost:8080/"
        },
        "id": "YzHs0TWjBrhC",
        "outputId": "9514d1f1-7bc8-4e31-d3db-eab88aeddd3a"
      },
      "source": [
        "##no group difference on gender\n",
        "dataset1.groupby(\"GenderCode\")[\"Age\"].mean()"
      ],
      "execution_count": 45,
      "outputs": [
        {
          "output_type": "execute_result",
          "data": {
            "text/plain": [
              "GenderCode\n",
              "0    54.812035\n",
              "1    54.982222\n",
              "Name: Age, dtype: float64"
            ]
          },
          "metadata": {},
          "execution_count": 45
        }
      ]
    },
    {
      "cell_type": "code",
      "metadata": {
        "colab": {
          "base_uri": "https://localhost:8080/",
          "height": 334
        },
        "id": "KI4Re16PCPY8",
        "outputId": "7f649ffc-5339-4c23-a17c-8262a76de859"
      },
      "source": [
        "##more male vs female\n",
        "dataset1[[\"GenderCode\"]].describe()\n",
        "vis6 = sns.histplot(dataset1[\"GenderCode\"])\n",
        "dataset1[\"GenderCode\"].value_counts()"
      ],
      "execution_count": 46,
      "outputs": [
        {
          "output_type": "execute_result",
          "data": {
            "text/plain": [
              "1    3823\n",
              "0    1981\n",
              "Name: GenderCode, dtype: int64"
            ]
          },
          "metadata": {},
          "execution_count": 46
        },
        {
          "output_type": "display_data",
          "data": {
            "image/png": "[encoded data removed]",
            "text/plain": [
              "<Figure size 432x288 with 1 Axes>"
            ]
          },
          "metadata": {
            "needs_background": "light"
          }
        }
      ]
    },
    {
      "cell_type": "code",
      "metadata": {
        "colab": {
          "base_uri": "https://localhost:8080/",
          "height": 333
        },
        "id": "4OWt_qsLm9sT",
        "outputId": "e47c1b17-b938-4978-89bc-c7be0e223a3f"
      },
      "source": [
        "vis3 = sns.distplot(dataset1[\"PurchaseYear\"],bins=30)"
      ],
      "execution_count": 47,
      "outputs": [
        {
          "output_type": "stream",
          "name": "stderr",
          "text": [
            "/usr/local/lib/python3.7/dist-packages/seaborn/distributions.py:2619: FutureWarning: `distplot` is a deprecated function and will be removed in a future version. Please adapt your code to use either `displot` (a figure-level function with similar flexibility) or `histplot` (an axes-level function for histograms).\n",
            "  warnings.warn(msg, FutureWarning)\n"
          ]
        },
        {
          "output_type": "display_data",
          "data": {
            "image/png": "[encoded data removed]",
            "text/plain": [
              "<Figure size 432x288 with 1 Axes>"
            ]
          },
          "metadata": {
            "needs_background": "light"
          }
        }
      ]
    },
    {
      "cell_type": "code",
      "metadata": {
        "id": "D8X6RLw3oaCO",
        "colab": {
          "base_uri": "https://localhost:8080/",
          "height": 333
        },
        "outputId": "09ea7c98-b79a-4534-ef75-3d7da24d81ac"
      },
      "source": [
        "vis4 = sns.distplot(dataset1[\"PurchaseMonth\"])"
      ],
      "execution_count": 49,
      "outputs": [
        {
          "output_type": "stream",
          "name": "stderr",
          "text": [
            "/usr/local/lib/python3.7/dist-packages/seaborn/distributions.py:2619: FutureWarning: `distplot` is a deprecated function and will be removed in a future version. Please adapt your code to use either `displot` (a figure-level function with similar flexibility) or `histplot` (an axes-level function for histograms).\n",
            "  warnings.warn(msg, FutureWarning)\n"
          ]
        },
        {
          "output_type": "display_data",
          "data": {
            "image/png": "[encoded data removed]",
            "text/plain": [
              "<Figure size 432x288 with 1 Axes>"
            ]
          },
          "metadata": {
            "needs_background": "light"
          }
        }
      ]
    },
    {
      "cell_type": "code",
      "metadata": {
        "id": "l7HMZq2dqM_d"
      },
      "source": [
        "##dataset2 = pd.crosstab(index=dataset1['PurchaseYear'], columns='count')\n",
        "##dataset2.rename(columns = {\"col_0\tcount\": \"count\"},inplace=True) "
      ],
      "execution_count": 51,
      "outputs": []
    },
    {
      "cell_type": "code",
      "metadata": {
        "colab": {
          "base_uri": "https://localhost:8080/",
          "height": 481
        },
        "id": "6I1_shd6sbak",
        "outputId": "e54bde97-2b2d-4e07-cd32-7c185c3421ec"
      },
      "source": [
        "#dataset1['WealthRating'].astype(int)\n",
        "## in the 9th or 8th percentile \n",
        "vis5 = sns.histplot(dataset1[\"WealthRating\"])\n",
        "dataset1.WealthRating"
      ],
      "execution_count": 52,
      "outputs": [
        {
          "output_type": "execute_result",
          "data": {
            "text/plain": [
              "0        NaN\n",
              "1         9 \n",
              "2         2 \n",
              "3         9 \n",
              "4         7 \n",
              "        ... \n",
              "12197    NaN\n",
              "12198    NaN\n",
              "12199    NaN\n",
              "12200     5 \n",
              "12201     4 \n",
              "Name: WealthRating, Length: 12202, dtype: object"
            ]
          },
          "metadata": {},
          "execution_count": 52
        },
        {
          "output_type": "display_data",
          "data": {
            "image/png": "[encoded data removed]",
            "text/plain": [
              "<Figure size 432x288 with 1 Axes>"
            ]
          },
          "metadata": {
            "needs_background": "light"
          }
        }
      ]
    },
    {
      "cell_type": "code",
      "metadata": {
        "colab": {
          "base_uri": "https://localhost:8080/",
          "height": 172
        },
        "id": "d6b6efvJAwAP",
        "outputId": "138720f2-448b-444c-a677-392f66557074"
      },
      "source": [
        "dataset1[[\"WealthRating\"]].describe()"
      ],
      "execution_count": 18,
      "outputs": [
        {
          "output_type": "execute_result",
          "data": {
            "text/html": [
              "<div>\n",
              "<style scoped>\n",
              "    .dataframe tbody tr th:only-of-type {\n",
              "        vertical-align: middle;\n",
              "    }\n",
              "\n",
              "    .dataframe tbody tr th {\n",
              "        vertical-align: top;\n",
              "    }\n",
              "\n",
              "    .dataframe thead th {\n",
              "        text-align: right;\n",
              "    }\n",
              "</style>\n",
              "<table border=\"1\" class=\"dataframe\">\n",
              "  <thead>\n",
              "    <tr style=\"text-align: right;\">\n",
              "      <th></th>\n",
              "      <th>WealthRating</th>\n",
              "    </tr>\n",
              "  </thead>\n",
              "  <tbody>\n",
              "    <tr>\n",
              "      <th>count</th>\n",
              "      <td>5910</td>\n",
              "    </tr>\n",
              "    <tr>\n",
              "      <th>unique</th>\n",
              "      <td>10</td>\n",
              "    </tr>\n",
              "    <tr>\n",
              "      <th>top</th>\n",
              "      <td>9</td>\n",
              "    </tr>\n",
              "    <tr>\n",
              "      <th>freq</th>\n",
              "      <td>1087</td>\n",
              "    </tr>\n",
              "  </tbody>\n",
              "</table>\n",
              "</div>"
            ],
            "text/plain": [
              "       WealthRating\n",
              "count          5910\n",
              "unique           10\n",
              "top              9 \n",
              "freq           1087"
            ]
          },
          "metadata": {},
          "execution_count": 18
        }
      ]
    },
    {
      "cell_type": "code",
      "metadata": {
        "colab": {
          "base_uri": "https://localhost:8080/",
          "height": 283
        },
        "id": "3QUqWX8GFGEg",
        "outputId": "0af9ba36-0062-481d-e03a-79d806a442ea"
      },
      "source": [
        "##credit card##majority don't have credit card\n",
        "dataset1[\"CreditCard\"].value_counts()\n",
        "vis7 = sns.histplot(dataset1[\"CreditCard\"])"
      ],
      "execution_count": 55,
      "outputs": [
        {
          "output_type": "display_data",
          "data": {
            "image/png": "[encoded data removed]",
            "text/plain": [
              "<Figure size 432x288 with 1 Axes>"
            ]
          },
          "metadata": {
            "needs_background": "light"
          }
        }
      ]
    },
    {
      "cell_type": "code",
      "metadata": {
        "colab": {
          "base_uri": "https://localhost:8080/",
          "height": 279
        },
        "id": "HuaIRzPgFwbR",
        "outputId": "7788a328-cb59-4e80-f423-e312d22cfd24"
      },
      "source": [
        "#dominant amount of home owner\n",
        "dataset1[\"HomeOwnership\"].value_counts()\n",
        "vis8 = sns.histplot(dataset1[\"HomeOwnership\"])"
      ],
      "execution_count": 56,
      "outputs": [
        {
          "output_type": "display_data",
          "data": {
            "image/png": "[encoded data removed]",
            "text/plain": [
              "<Figure size 432x288 with 1 Axes>"
            ]
          },
          "metadata": {
            "needs_background": "light"
          }
        }
      ]
    },
    {
      "cell_type": "code",
      "metadata": {
        "colab": {
          "base_uri": "https://localhost:8080/",
          "height": 364
        },
        "id": "nzOpB3JhF3ma",
        "outputId": "dbf4b3ea-169f-40ec-a6b9-865e83e67f6d"
      },
      "source": [
        "##education level\n",
        "vis9 = sns.histplot(dataset1[\"EducationLevel\"])\n",
        "dataset1[\"EducationLevel\"].value_counts()"
      ],
      "execution_count": 60,
      "outputs": [
        {
          "output_type": "execute_result",
          "data": {
            "text/plain": [
              "Some College         1933\n",
              "High School          1318\n",
              "Completed College     396\n",
              "Graduated School       59\n",
              "Name: EducationLevel, dtype: int64"
            ]
          },
          "metadata": {},
          "execution_count": 60
        },
        {
          "output_type": "display_data",
          "data": {
            "image/png": "[encoded data removed]",
            "text/plain": [
              "<Figure size 432x288 with 1 Axes>"
            ]
          },
          "metadata": {
            "needs_background": "light"
          }
        }
      ]
    },
    {
      "cell_type": "code",
      "metadata": {
        "colab": {
          "base_uri": "https://localhost:8080/",
          "height": 279
        },
        "id": "OKYfeFsdHEJF",
        "outputId": "d118ee9a-1dfa-423c-9d2e-be5064fabec9"
      },
      "source": [
        "##most married \n",
        "vis10 = sns.histplot(dataset1['Marital Status'])\n"
      ],
      "execution_count": 61,
      "outputs": [
        {
          "output_type": "display_data",
          "data": {
            "image/png": "[encoded data removed]",
            "text/plain": [
              "<Figure size 432x288 with 1 Axes>"
            ]
          },
          "metadata": {
            "needs_background": "light"
          }
        }
      ]
    },
    {
      "cell_type": "code",
      "metadata": {
        "colab": {
          "base_uri": "https://localhost:8080/",
          "height": 279
        },
        "id": "9-Cpz6GZHQBJ",
        "outputId": "76182b05-33ec-41a9-d738-dfc489593264"
      },
      "source": [
        "dataset[[\"Median Income\"]]\n",
        "dataset3=dataset[[\"Median Income\",\"Education Level\"]]\n",
        "dataset3\n",
        "##graduted school earn similar to high school\n",
        "vis11 = sns.boxplot(data=dataset3,x=\"Education Level\",y=\"Median Income\")\n"
      ],
      "execution_count": 76,
      "outputs": [
        {
          "output_type": "display_data",
          "data": {
            "image/png": "[encoded data removed]",
            "text/plain": [
              "<Figure size 432x288 with 1 Axes>"
            ]
          },
          "metadata": {
            "needs_background": "light"
          }
        }
      ]
    },
    {
      "cell_type": "code",
      "metadata": {
        "colab": {
          "base_uri": "https://localhost:8080/"
        },
        "id": "KrxG784eUBJI",
        "outputId": "cc609187-7482-4f2a-b496-15297762adce"
      },
      "source": [
        "freq.max()\n",
        "freq.describe"
      ],
      "execution_count": 135,
      "outputs": [
        {
          "output_type": "execute_result",
          "data": {
            "text/plain": [
              "<bound method NDFrame.describe of                                                    EstimatedCurrentOdometer\n",
              "Occupation                                                                 \n",
              "Accountants                                                    98059.000000\n",
              "Architects                                                    108859.800000\n",
              "Attorneys                                                     124639.000000\n",
              "Beauty (Cosmetologist, Barber, Manicurist, Nails)             103053.833333\n",
              "Chiropractors                                                 150804.000000\n",
              "Civil Servant                                                  84076.750000\n",
              "Clerical or Service Worker                                    105360.245283\n",
              "Computer Professional                                          65064.500000\n",
              "Counselors                                                    134354.000000\n",
              "Dentist/Dental Hygienist                                       75576.500000\n",
              "Doctors/Physicians/Surgeons                                   103611.804348\n",
              "Electricians                                                  125937.400000\n",
              "Engineers                                                      90301.200000\n",
              "Executive/Administrator                                       103540.428571\n",
              "Farming/Agriculture                                            96534.666667\n",
              "Financial Services                                            104526.368421\n",
              "Health Services                                                93462.047619\n",
              "Homemaker                                                     100269.720000\n",
              "Landscape Architects                                          114774.000000\n",
              "Middle Management                                             114018.328571\n",
              "Military                                                       99746.208333\n",
              "Nurses                                                         96403.593750\n",
              "Occupational Therapist/Physical Therapist                     129141.500000\n",
              "Opticians/Optometrist                                          58629.000000\n",
              "Pharmacist                                                     87525.000000\n",
              "Professional Driver                                            68587.000000\n",
              "Professional/Technical                                         99801.292842\n",
              "Psychologists                                                 126348.500000\n",
              "Real Estate (Sales, Brokers, Appraisers)                      110705.629630\n",
              "Retired                                                        84675.892473\n",
              "Sales/Marketing                                               102977.739130\n",
              "Self Employed                                                  90180.312500\n",
              "Social Worker                                                  55401.600000\n",
              "Student                                                       100204.714286\n",
              "Teacher/Educator                                              110661.250000\n",
              "Tradesman/machine/Laborer                                     114149.093548\n",
              "Upper Management/Executive                                     81348.606061\n",
              "Work from Home                                                104782.425373>"
            ]
          },
          "metadata": {},
          "execution_count": 135
        }
      ]
    },
    {
      "cell_type": "code",
      "metadata": {
        "colab": {
          "base_uri": "https://localhost:8080/",
          "height": 961
        },
        "id": "1ZDPaBFcJC82",
        "outputId": "354bb239-6f34-40fb-ee27-d824578bce7f"
      },
      "source": [
        "##vis13 = sns.boxplot(data=dataset1,x=\"Occupation\",y=\"EstimatedCurrentOdometer\")\n",
        "##sns.set(rc = {'figure.figsize':(500,100)})\n",
        "freq=dataset1.groupby(\"Occupation\")[\"EstimatedCurrentOdometer\"].mean()\n",
        "freq = pd.DataFrame(freq)\n",
        "\n",
        "cmap = sns.cubehelix_palette(light=1, as_cmap=True)\n",
        "fig = plt.figure(num=None, figsize=(15, 15), dpi=80, facecolor='w', edgecolor='k')\n",
        "vis14 = sns.heatmap(freq, annot=True, vmin=55401.0, vmax=150804.0, \n",
        "              fmt='.2f', cmap=cmap, cbar_kws={\"shrink\": .82},linewidths=0.1, linecolor='gray')\n",
        "#res1=sns.heatmap(freq)\n"
      ],
      "execution_count": 138,
      "outputs": [
        {
          "output_type": "display_data",
          "data": {
            "image/png": "[encoded data removed]",
            "text/plain": [
              "<Figure size 1200x1200 with 2 Axes>"
            ]
          },
          "metadata": {}
        }
      ]
    }
  ]
}